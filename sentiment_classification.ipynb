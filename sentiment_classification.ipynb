{
 "cells": [
  {
   "cell_type": "code",
   "execution_count": 1,
   "id": "4964e943",
   "metadata": {},
   "outputs": [],
   "source": [
    "from konlpy.tag import Mecab\n",
    "import numpy as np\n",
    "import pandas as pd\n",
    "from collections import Counter\n",
    "from tensorflow.keras.preprocessing.sequence import pad_sequences\n",
    "from gensim.models import Word2Vec\n",
    "import matplotlib.pyplot as plt\n",
    "\n",
    "train_data = pd.read_table('~/aiffel/sentiment_classification/data/ratings_train.txt')\n",
    "test_data = pd.read_table('~/aiffel/sentiment_classification/data/ratings_test.txt')\n",
    "\n",
    "tokenizer = Mecab()\n",
    "stopwords = ['의', '가', '이', '은', '들', '는', '좀', '잘', '걍', '과', '도', '를', '으로', '자', '에', '와', '한', '하다']\n",
    "\n"
   ]
  },
  {
   "cell_type": "code",
   "execution_count": 2,
   "id": "98716fb6",
   "metadata": {},
   "outputs": [],
   "source": [
    "def load_data(train_data, test_data, num_words=10000):\n",
    "    # 데이터의 중복 제거\n",
    "    train_data = list(set(train_data))\n",
    "    test_data = list(set(test_data))\n",
    "    \n",
    "    # NaN 결측치 제거\n",
    "    train_data = [data for data in train_data if str(data) != 'nan']\n",
    "    test_data = [data for data in test_data if str(data) != 'nan']\n",
    "    \n",
    "    # 토큰화 및 불용어 제거\n",
    "    X_train = [remove_stopwords(tokenizer.morphs(sentence)) for sentence in train_data]\n",
    "    X_test = [remove_stopwords(tokenizer.morphs(sentence)) for sentence in test_data]\n",
    "    \n",
    "    # 단어 집합 생성\n",
    "    words = np.concatenate(X_train).tolist()\n",
    "    counter = Counter(words)\n",
    "    if num_words is None:\n",
    "        counter = counter.most_common(num_words)\n",
    "    else:\n",
    "        counter = counter.items()\n",
    "    word_to_index = {word: index + 2 for index, (word, _) in enumerate(counter)}\n",
    "    word_to_index['<PAD>'] = 0  # 패딩을 위한 토큰\n",
    "    word_to_index['<UNK>'] = 1  # OOV(out-of-vocabulary)를 위한 토큰\n",
    "    \n",
    "    # 텍스트 스트링을 사전 인덱스 스트링으로 변환\n",
    "    X_train = [get_encoded_sentence(sentence, word_to_index) for sentence in X_train]\n",
    "    X_test = [get_encoded_sentence(sentence, word_to_index) for sentence in X_test]\n",
    "    \n",
    "    # 레이블 생성\n",
    "    y_train = np.array([0] * len(X_train))\n",
    "    y_test = np.array([0] * len(X_test))\n",
    "    \n",
    "    # 문장 길이 분포 확인\n",
    "    total_data = X_train + X_test\n",
    "    num_tokens = [len(tokens) for tokens in total_data]\n",
    "    max_len = int(np.percentile(num_tokens, 95))  # 상위 95%의 문장 길이를 최대 문장 길이로 설정\n",
    "    mean_len = int(np.mean(num_tokens))\n",
    "    \n",
    "    # 패딩 추가\n",
    "    X_train = pad_sequences(X_train, maxlen=max_len, dtype=np.int32, padding='post')\n",
    "    X_test = pad_sequences(X_test, maxlen=max_len, dtype=np.int32, padding='post')\n",
    "    \n",
    "    return X_train, y_train, X_test, y_test, word_to_index, max_len\n"
   ]
  },
  {
   "cell_type": "code",
   "execution_count": 3,
   "id": "69ca418f",
   "metadata": {},
   "outputs": [
    {
     "name": "stdout",
     "output_type": "stream",
     "text": [
      "[2, 2, 2]\n"
     ]
    },
    {
     "data": {
      "image/png": "[encoded data removed]",
      "text/plain": [
       "<Figure size 432x288 with 1 Axes>"
      ]
     },
     "metadata": {
      "needs_background": "light"
     },
     "output_type": "display_data"
    }
   ],
   "source": [
    "def remove_stopwords(tokens):\n",
    "    return [token for token in tokens if token not in stopwords]\n",
    "\n",
    "def get_encoded_sentence(sentence, word_to_index):\n",
    "    return [word_to_index['<PAD>']] + [word_to_index[word] if word in word_to_index else word_to_index['<UNK>'] for word in sentence]\n",
    "\n",
    "def plot_sentence_length_distribution(data):\n",
    "    num_tokens = [len(tokens) for tokens in data]\n",
    "    print(num_tokens)\n",
    "    plt.hist(num_tokens, bins=100)\n",
    "    plt.xlabel('Length of Sentences')\n",
    "    plt.ylabel('Number of Sentences')\n",
    "    plt.show()\n",
    "\n",
    "# 예시 실행 코드\n",
    "# train_data와 test_data는 각각 학습 데이터와 테스트 데이터로 구성된 리스트\n",
    "X_train, y_train, X_test, y_test, word_to_index, max_len = load_data(train_data, test_data, num_words=10000)\n",
    "\n",
    "# 문장 길이 분포 확인\n",
    "plot_sentence_length_distribution(X_train)\n",
    "\n",
    "# 모델 구성 및 validation set 구성\n",
    "# 모델 훈련 개시\n",
    "# Loss, Accuracy 그래프 시각화\n",
    "# 학습된 Embedding 레이어 분석\n",
    "# 한국어 Word2Vec 임베딩 활용하여 성능 개선\n"
   ]
  },
  {
   "cell_type": "code",
   "execution_count": 4,
   "id": "f566973a",
   "metadata": {},
   "outputs": [
    {
     "name": "stdout",
     "output_type": "stream",
     "text": [
      "Epoch 1/10\n",
      "1/1 [==============================] - 4s 4s/step - loss: 0.6956 - accuracy: 0.5000 - val_loss: 0.6875 - val_accuracy: 1.0000\n",
      "Epoch 2/10\n",
      "1/1 [==============================] - 0s 22ms/step - loss: 0.6847 - accuracy: 1.0000 - val_loss: 0.6801 - val_accuracy: 1.0000\n",
      "Epoch 3/10\n",
      "1/1 [==============================] - 0s 21ms/step - loss: 0.6737 - accuracy: 1.0000 - val_loss: 0.6726 - val_accuracy: 1.0000\n",
      "Epoch 4/10\n",
      "1/1 [==============================] - 0s 21ms/step - loss: 0.6626 - accuracy: 1.0000 - val_loss: 0.6649 - val_accuracy: 1.0000\n",
      "Epoch 5/10\n",
      "1/1 [==============================] - 0s 20ms/step - loss: 0.6513 - accuracy: 1.0000 - val_loss: 0.6570 - val_accuracy: 1.0000\n",
      "Epoch 6/10\n",
      "1/1 [==============================] - 0s 20ms/step - loss: 0.6395 - accuracy: 1.0000 - val_loss: 0.6487 - val_accuracy: 1.0000\n",
      "Epoch 7/10\n",
      "1/1 [==============================] - 0s 20ms/step - loss: 0.6273 - accuracy: 1.0000 - val_loss: 0.6399 - val_accuracy: 1.0000\n",
      "Epoch 8/10\n",
      "1/1 [==============================] - 0s 28ms/step - loss: 0.6144 - accuracy: 1.0000 - val_loss: 0.6307 - val_accuracy: 1.0000\n",
      "Epoch 9/10\n",
      "1/1 [==============================] - 0s 29ms/step - loss: 0.6009 - accuracy: 1.0000 - val_loss: 0.6208 - val_accuracy: 1.0000\n",
      "Epoch 10/10\n",
      "1/1 [==============================] - 0s 23ms/step - loss: 0.5865 - accuracy: 1.0000 - val_loss: 0.6102 - val_accuracy: 1.0000\n"
     ]
    },
    {
     "data": {
      "image/png": "[encoded data removed]",
      "text/plain": [
       "<Figure size 432x288 with 1 Axes>"
      ]
     },
     "metadata": {
      "needs_background": "light"
     },
     "output_type": "display_data"
    },
    {
     "data": {
      "image/png": "[encoded data removed]",
      "text/plain": [
       "<Figure size 432x288 with 1 Axes>"
      ]
     },
     "metadata": {
      "needs_background": "light"
     },
     "output_type": "display_data"
    },
    {
     "name": "stderr",
     "output_type": "stream",
     "text": [
      "/tmp/ipykernel_284/346084987.py:40: FutureWarning: elementwise comparison failed; returning scalar instead, but in the future will perform elementwise comparison\n",
      "  word_embeddings = {word: weights[index] for word, index in word_to_index.items() if word in weights}\n"
     ]
    }
   ],
   "source": [
    "from tensorflow.keras.models import Sequential\n",
    "from tensorflow.keras.layers import Embedding, LSTM, Dense\n",
    "from tensorflow.keras.callbacks import EarlyStopping\n",
    "\n",
    "# Model configuration\n",
    "embedding_dim = 100\n",
    "hidden_units = 128\n",
    "\n",
    "# Model architecture\n",
    "model = Sequential()\n",
    "model.add(Embedding(len(word_to_index), embedding_dim, input_length=max_len))\n",
    "model.add(LSTM(hidden_units))\n",
    "model.add(Dense(1, activation='sigmoid'))\n",
    "\n",
    "# Compile the model\n",
    "model.compile(optimizer='adam', loss='binary_crossentropy', metrics=['accuracy'])\n",
    "\n",
    "# Train the model\n",
    "early_stopping = EarlyStopping(patience=3, restore_best_weights=True)\n",
    "history = model.fit(X_train, y_train, validation_split=0.2, epochs=10, batch_size=128, callbacks=[early_stopping])\n",
    "\n",
    "# Loss and Accuracy Visualization\n",
    "plt.plot(history.history['loss'], label='Training Loss')\n",
    "plt.plot(history.history['val_loss'], label='Validation Loss')\n",
    "plt.legend()\n",
    "plt.xlabel('Epochs')\n",
    "plt.ylabel('Loss')\n",
    "plt.show()\n",
    "\n",
    "plt.plot(history.history['accuracy'], label='Training Accuracy')\n",
    "plt.plot(history.history['val_accuracy'], label='Validation Accuracy')\n",
    "plt.legend()\n",
    "plt.xlabel('Epochs')\n",
    "plt.ylabel('Accuracy')\n",
    "plt.show()\n",
    "\n",
    "# Analyze the trained Embedding layer\n",
    "embedding_layer = model.layers[0]\n",
    "weights = embedding_layer.get_weights()[0]\n",
    "word_embeddings = {word: weights[index] for word, index in word_to_index.items() if word in weights}\n",
    "\n",
    "# Perform analysis or further tasks with the word embeddings\n",
    "# ...\n",
    "\n",
    "# Improve performance using pre-trained Korean Word2Vec embeddings\n",
    "# ...\n",
    "\n",
    "# Example code ends here\n"
   ]
  },
  {
   "cell_type": "code",
   "execution_count": null,
   "id": "8f30f8e5",
   "metadata": {},
   "outputs": [],
   "source": []
  },
  {
   "cell_type": "code",
   "execution_count": null,
   "id": "838cb414",
   "metadata": {},
   "outputs": [],
   "source": []
  }
 ],
 "metadata": {
  "kernelspec": {
   "display_name": "Python 3 (ipykernel)",
   "language": "python",
   "name": "python3"
  },
  "language_info": {
   "codemirror_mode": {
    "name": "ipython",
    "version": 3
   },
   "file_extension": ".py",
   "mimetype": "text/x-python",
   "name": "python",
   "nbconvert_exporter": "python",
   "pygments_lexer": "ipython3",
   "version": "3.9.7"
  }
 },
 "nbformat": 4,
 "nbformat_minor": 5
}
